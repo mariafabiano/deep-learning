{
 "cells": [
  {
   "cell_type": "code",
   "execution_count": 1,
   "metadata": {
    "collapsed": false
   },
   "outputs": [],
   "source": [
    "import tensorflow as tf\n",
    "import numpy as np\n",
    "from textloader import TextLoader\n",
    "import matplotlib.pyplot as plt\n",
    "from tensorflow.python.ops.rnn_cell import BasicLSTMCell\n",
    "from tensorflow.python.ops.rnn_cell import MultiRNNCell\n",
    "from tensorflow.python.ops.rnn_cell import RNNCell\n",
    "import subprocess"
   ]
  },
  {
   "cell_type": "code",
   "execution_count": 2,
   "metadata": {
    "collapsed": false
   },
   "outputs": [
    {
     "name": "stdout",
     "output_type": "stream",
     "text": [
      "195362\n",
      "loading preprocessed files\n"
     ]
    }
   ],
   "source": [
    "# make a list of all the words to choose starting words later \n",
    "with open(\"input.txt\", 'r') as f:\n",
    "    lines = f.readlines()\n",
    "    data = [word for x in [line.decode('utf-8').split(' ') for line in lines] for word in x]\n",
    "    print len(lines)\n",
    "    # batch_size = len(lines)//10\n",
    "\n",
    "# Global variables\n",
    "batch_size = 1000\n",
    "sequence_length = 10 # 50\n",
    "state_dim = 128\n",
    "num_layers = 2\n",
    "\n",
    "data_loader = TextLoader( \".\", batch_size, sequence_length )\n",
    "vocab_size = data_loader.vocab_size  # dimension of one-hot encodings"
   ]
  },
  {
   "cell_type": "code",
   "execution_count": 3,
   "metadata": {
    "collapsed": false
   },
   "outputs": [
    {
     "name": "stdout",
     "output_type": "stream",
     "text": [
      "FOUND 132 BATCHES\n",
      "0 0\t10.8212\n"
     ]
    },
    {
     "ename": "KeyboardInterrupt",
     "evalue": "",
     "output_type": "error",
     "traceback": [
      "\u001b[0;31m---------------------------------------------------------------------------\u001b[0m",
      "\u001b[0;31mKeyboardInterrupt\u001b[0m                         Traceback (most recent call last)",
      "\u001b[0;32m<ipython-input-3-2d17fc19706b>\u001b[0m in \u001b[0;36m<module>\u001b[0;34m()\u001b[0m\n\u001b[1;32m    153\u001b[0m         \u001b[0;31m# 1 is the loss\u001b[0m\u001b[0;34m\u001b[0m\u001b[0;34m\u001b[0m\u001b[0m\n\u001b[1;32m    154\u001b[0m         \u001b[0;31m# 2+ are the new final states of the MultiRNN cell\u001b[0m\u001b[0;34m\u001b[0m\u001b[0;34m\u001b[0m\u001b[0m\n\u001b[0;32m--> 155\u001b[0;31m         \u001b[0mretval\u001b[0m \u001b[0;34m=\u001b[0m \u001b[0msess\u001b[0m\u001b[0;34m.\u001b[0m\u001b[0mrun\u001b[0m\u001b[0;34m(\u001b[0m \u001b[0mops\u001b[0m\u001b[0;34m,\u001b[0m \u001b[0mfeed_dict\u001b[0m\u001b[0;34m=\u001b[0m\u001b[0mfeed\u001b[0m \u001b[0;34m)\u001b[0m\u001b[0;34m\u001b[0m\u001b[0m\n\u001b[0m\u001b[1;32m    156\u001b[0m \u001b[0;34m\u001b[0m\u001b[0m\n\u001b[1;32m    157\u001b[0m         \u001b[0mlt\u001b[0m \u001b[0;34m=\u001b[0m \u001b[0mretval\u001b[0m\u001b[0;34m[\u001b[0m\u001b[0;36m1\u001b[0m\u001b[0;34m]\u001b[0m\u001b[0;34m\u001b[0m\u001b[0m\n",
      "\u001b[0;32m/Users/mariamorley/anaconda2/lib/python2.7/site-packages/tensorflow/python/client/session.pyc\u001b[0m in \u001b[0;36mrun\u001b[0;34m(self, fetches, feed_dict, options, run_metadata)\u001b[0m\n\u001b[1;32m    893\u001b[0m     \u001b[0;32mtry\u001b[0m\u001b[0;34m:\u001b[0m\u001b[0;34m\u001b[0m\u001b[0m\n\u001b[1;32m    894\u001b[0m       result = self._run(None, fetches, feed_dict, options_ptr,\n\u001b[0;32m--> 895\u001b[0;31m                          run_metadata_ptr)\n\u001b[0m\u001b[1;32m    896\u001b[0m       \u001b[0;32mif\u001b[0m \u001b[0mrun_metadata\u001b[0m\u001b[0;34m:\u001b[0m\u001b[0;34m\u001b[0m\u001b[0m\n\u001b[1;32m    897\u001b[0m         \u001b[0mproto_data\u001b[0m \u001b[0;34m=\u001b[0m \u001b[0mtf_session\u001b[0m\u001b[0;34m.\u001b[0m\u001b[0mTF_GetBuffer\u001b[0m\u001b[0;34m(\u001b[0m\u001b[0mrun_metadata_ptr\u001b[0m\u001b[0;34m)\u001b[0m\u001b[0;34m\u001b[0m\u001b[0m\n",
      "\u001b[0;32m/Users/mariamorley/anaconda2/lib/python2.7/site-packages/tensorflow/python/client/session.pyc\u001b[0m in \u001b[0;36m_run\u001b[0;34m(self, handle, fetches, feed_dict, options, run_metadata)\u001b[0m\n\u001b[1;32m   1122\u001b[0m     \u001b[0;32mif\u001b[0m \u001b[0mfinal_fetches\u001b[0m \u001b[0;32mor\u001b[0m \u001b[0mfinal_targets\u001b[0m \u001b[0;32mor\u001b[0m \u001b[0;34m(\u001b[0m\u001b[0mhandle\u001b[0m \u001b[0;32mand\u001b[0m \u001b[0mfeed_dict_tensor\u001b[0m\u001b[0;34m)\u001b[0m\u001b[0;34m:\u001b[0m\u001b[0;34m\u001b[0m\u001b[0m\n\u001b[1;32m   1123\u001b[0m       results = self._do_run(handle, final_targets, final_fetches,\n\u001b[0;32m-> 1124\u001b[0;31m                              feed_dict_tensor, options, run_metadata)\n\u001b[0m\u001b[1;32m   1125\u001b[0m     \u001b[0;32melse\u001b[0m\u001b[0;34m:\u001b[0m\u001b[0;34m\u001b[0m\u001b[0m\n\u001b[1;32m   1126\u001b[0m       \u001b[0mresults\u001b[0m \u001b[0;34m=\u001b[0m \u001b[0;34m[\u001b[0m\u001b[0;34m]\u001b[0m\u001b[0;34m\u001b[0m\u001b[0m\n",
      "\u001b[0;32m/Users/mariamorley/anaconda2/lib/python2.7/site-packages/tensorflow/python/client/session.pyc\u001b[0m in \u001b[0;36m_do_run\u001b[0;34m(self, handle, target_list, fetch_list, feed_dict, options, run_metadata)\u001b[0m\n\u001b[1;32m   1319\u001b[0m     \u001b[0;32mif\u001b[0m \u001b[0mhandle\u001b[0m \u001b[0;32mis\u001b[0m \u001b[0mNone\u001b[0m\u001b[0;34m:\u001b[0m\u001b[0;34m\u001b[0m\u001b[0m\n\u001b[1;32m   1320\u001b[0m       return self._do_call(_run_fn, self._session, feeds, fetches, targets,\n\u001b[0;32m-> 1321\u001b[0;31m                            options, run_metadata)\n\u001b[0m\u001b[1;32m   1322\u001b[0m     \u001b[0;32melse\u001b[0m\u001b[0;34m:\u001b[0m\u001b[0;34m\u001b[0m\u001b[0m\n\u001b[1;32m   1323\u001b[0m       \u001b[0;32mreturn\u001b[0m \u001b[0mself\u001b[0m\u001b[0;34m.\u001b[0m\u001b[0m_do_call\u001b[0m\u001b[0;34m(\u001b[0m\u001b[0m_prun_fn\u001b[0m\u001b[0;34m,\u001b[0m \u001b[0mself\u001b[0m\u001b[0;34m.\u001b[0m\u001b[0m_session\u001b[0m\u001b[0;34m,\u001b[0m \u001b[0mhandle\u001b[0m\u001b[0;34m,\u001b[0m \u001b[0mfeeds\u001b[0m\u001b[0;34m,\u001b[0m \u001b[0mfetches\u001b[0m\u001b[0;34m)\u001b[0m\u001b[0;34m\u001b[0m\u001b[0m\n",
      "\u001b[0;32m/Users/mariamorley/anaconda2/lib/python2.7/site-packages/tensorflow/python/client/session.pyc\u001b[0m in \u001b[0;36m_do_call\u001b[0;34m(self, fn, *args)\u001b[0m\n\u001b[1;32m   1325\u001b[0m   \u001b[0;32mdef\u001b[0m \u001b[0m_do_call\u001b[0m\u001b[0;34m(\u001b[0m\u001b[0mself\u001b[0m\u001b[0;34m,\u001b[0m \u001b[0mfn\u001b[0m\u001b[0;34m,\u001b[0m \u001b[0;34m*\u001b[0m\u001b[0margs\u001b[0m\u001b[0;34m)\u001b[0m\u001b[0;34m:\u001b[0m\u001b[0;34m\u001b[0m\u001b[0m\n\u001b[1;32m   1326\u001b[0m     \u001b[0;32mtry\u001b[0m\u001b[0;34m:\u001b[0m\u001b[0;34m\u001b[0m\u001b[0m\n\u001b[0;32m-> 1327\u001b[0;31m       \u001b[0;32mreturn\u001b[0m \u001b[0mfn\u001b[0m\u001b[0;34m(\u001b[0m\u001b[0;34m*\u001b[0m\u001b[0margs\u001b[0m\u001b[0;34m)\u001b[0m\u001b[0;34m\u001b[0m\u001b[0m\n\u001b[0m\u001b[1;32m   1328\u001b[0m     \u001b[0;32mexcept\u001b[0m \u001b[0merrors\u001b[0m\u001b[0;34m.\u001b[0m\u001b[0mOpError\u001b[0m \u001b[0;32mas\u001b[0m \u001b[0me\u001b[0m\u001b[0;34m:\u001b[0m\u001b[0;34m\u001b[0m\u001b[0m\n\u001b[1;32m   1329\u001b[0m       \u001b[0mmessage\u001b[0m \u001b[0;34m=\u001b[0m \u001b[0mcompat\u001b[0m\u001b[0;34m.\u001b[0m\u001b[0mas_text\u001b[0m\u001b[0;34m(\u001b[0m\u001b[0me\u001b[0m\u001b[0;34m.\u001b[0m\u001b[0mmessage\u001b[0m\u001b[0;34m)\u001b[0m\u001b[0;34m\u001b[0m\u001b[0m\n",
      "\u001b[0;32m/Users/mariamorley/anaconda2/lib/python2.7/site-packages/tensorflow/python/client/session.pyc\u001b[0m in \u001b[0;36m_run_fn\u001b[0;34m(session, feed_dict, fetch_list, target_list, options, run_metadata)\u001b[0m\n\u001b[1;32m   1304\u001b[0m           return tf_session.TF_Run(session, options,\n\u001b[1;32m   1305\u001b[0m                                    \u001b[0mfeed_dict\u001b[0m\u001b[0;34m,\u001b[0m \u001b[0mfetch_list\u001b[0m\u001b[0;34m,\u001b[0m \u001b[0mtarget_list\u001b[0m\u001b[0;34m,\u001b[0m\u001b[0;34m\u001b[0m\u001b[0m\n\u001b[0;32m-> 1306\u001b[0;31m                                    status, run_metadata)\n\u001b[0m\u001b[1;32m   1307\u001b[0m \u001b[0;34m\u001b[0m\u001b[0m\n\u001b[1;32m   1308\u001b[0m     \u001b[0;32mdef\u001b[0m \u001b[0m_prun_fn\u001b[0m\u001b[0;34m(\u001b[0m\u001b[0msession\u001b[0m\u001b[0;34m,\u001b[0m \u001b[0mhandle\u001b[0m\u001b[0;34m,\u001b[0m \u001b[0mfeed_dict\u001b[0m\u001b[0;34m,\u001b[0m \u001b[0mfetch_list\u001b[0m\u001b[0;34m)\u001b[0m\u001b[0;34m:\u001b[0m\u001b[0;34m\u001b[0m\u001b[0m\n",
      "\u001b[0;31mKeyboardInterrupt\u001b[0m: "
     ]
    }
   ],
   "source": [
    "tf.reset_default_graph()\n",
    "\n",
    "# ==================================================================\n",
    "\n",
    "# define placeholders for our inputs.  \n",
    "# in_ph is assumed to be [batch_size, sequence_length]\n",
    "# targ_ph is assumed to be [batch_size, sequence_length]\n",
    "\n",
    "in_ph = tf.placeholder( tf.int32, [ batch_size, sequence_length ], name='inputs' )\n",
    "targ_ph = tf.placeholder( tf.int32, [ batch_size, sequence_length ], name='targets' )\n",
    "in_onehot = tf.one_hot( in_ph, vocab_size, name=\"input_onehot\" )\n",
    "\n",
    "inputs = tf.split( in_onehot, sequence_length, axis=1 )\n",
    "inputs = [tf.squeeze(i, [1]) for i in inputs] # inputs is list length sequence_length; each element is [batch_size, vocab_size]\n",
    "targets = tf.split( targ_ph, sequence_length, axis=1, ) # targets is list length sequence_length; each element of targets is 1D vector length batch_size\n",
    "\n",
    "# ------------------\n",
    "# COMPUTATION GRAPH\n",
    "\n",
    "with tf.variable_scope(\"Computation_Graph\") as scope:\n",
    "    basic1 = BasicLSTMCell(state_dim)\n",
    "    basic2 = BasicLSTMCell(state_dim)\n",
    "    rnn = MultiRNNCell([basic1,basic2])\n",
    "    initial_state = rnn.zero_state(batch_size, tf.float32) # initial_state is a list of tensors\n",
    "    output_list, final_state = tf.contrib.legacy_seq2seq.rnn_decoder(inputs, initial_state, rnn)\n",
    "\n",
    "    init = tf.contrib.layers.variance_scaling_initializer()\n",
    "    W = tf.Variable(tf.random_normal([state_dim, vocab_size], stddev=0.02))\n",
    "    b = tf.Variable(tf.random_normal([vocab_size], stddev=0.01))\n",
    "    logits = [tf.matmul(output, W) + b for output in output_list]\n",
    "\n",
    "    weights = [1.]*sequence_length\n",
    "    loss = tf.contrib.legacy_seq2seq.sequence_loss(logits, targets, weights)\n",
    "    # idx = tf.where(tf.not_equal(targets, 0))\n",
    "    # Use tf.shape(a_t, out_type=tf.int64) instead of a_t.get_shape() if tensor shape is dynamic\n",
    "    # sparse = tf.SparseTensor(idx, tf.gather_nd(targets, idx), targets.get_shape())\n",
    "    # loss = tf.nn.ctc_loss(sparse, output_list, sequence_length)\n",
    "\n",
    "    c = 0.001\n",
    "    optim = tf.train.AdamOptimizer(learning_rate=c).minimize(loss)\n",
    "\n",
    "# ------------------\n",
    "# SAMPLER GRAPH\n",
    "\n",
    "# reuse the parameters of the cell and the parameters you used to transform state outputs to logits!\n",
    "\n",
    "batch_size = 1\n",
    "sequence_length = 1\n",
    "s_in_ph = tf.placeholder( tf.int32, [batch_size], name='inputs' )\n",
    "s_in_onehot = tf.one_hot( s_in_ph, vocab_size, name=\"input_onehot\" )\n",
    "\n",
    "s_inputs = tf.split( s_in_onehot, sequence_length, axis=0 )\n",
    "\n",
    "with tf.variable_scope(\"Sampler\") as scope:\n",
    "    s_initial_state = rnn.zero_state(batch_size, tf.float32) # initial_state is a list of tensors\n",
    "\n",
    "    s_output_list, s_final_state = tf.contrib.legacy_seq2seq.rnn_decoder(s_inputs, s_initial_state, rnn)\n",
    "\n",
    "    s_logits = [tf.matmul(output, W) + b for output in s_output_list] # W, b from previous RNN\n",
    "    \n",
    "    s_probs = tf.nn.softmax(s_logits)\n",
    "    # sequence_lengths = tf.to_int32(tf.fill([batch_size], sequence_max_len))\n",
    "    \"\"\"s_probs = tf.nn.ctc_beam_search_decoder(logits, sequence_length=sequence_length,\n",
    "                                            beam_width=3, merge_repeated=True, top_paths=1)\"\"\"\n",
    "\n",
    "# ==================================================================\n",
    "# ==================================================================\n",
    "\n",
    "def sample( num=200, prime='ab' ):\n",
    "    # prime the pump\n",
    "    # generate an initial state. this will be a list of states, one for each layer in the multicell.\n",
    "    s_state = sess.run( s_initial_state )\n",
    "\n",
    "    # for each character, feed it into the sampler graph and update the state.\n",
    "    for char in prime[:-1]:\n",
    "        x = np.ravel( data_loader.vocab[char] ).astype('int32')\n",
    "        feed = { s_in_ph:x }\n",
    "        for i, s in enumerate( s_initial_state ):\n",
    "            feed[s] = s_state[i]\n",
    "        s_state = sess.run( s_final_state, feed_dict=feed )\n",
    "\n",
    "    # now we have a primed state vector; we need to start sampling.\n",
    "    ret = prime\n",
    "    char = prime\n",
    "    \n",
    "    beams = []\n",
    "    for n in xrange(num):\n",
    "        x = np.ravel( data_loader.vocab[char] ).astype('int32')\n",
    "\n",
    "        # plug the most recent character in...\n",
    "        feed = { s_in_ph:x }\n",
    "        for i, s in enumerate( s_initial_state ):\n",
    "            feed[s] = s_state[i]\n",
    "        ops = [s_probs]\n",
    "        ops.extend( list(s_final_state) )\n",
    "\n",
    "        retval = sess.run( ops, feed_dict=feed )\n",
    "\n",
    "        s_probsv = retval[0]\n",
    "        s_state = retval[1:]\n",
    "        # ...and get a vector of probabilities out!\n",
    "\n",
    "        \n",
    "        \n",
    "        def temp_sample(a, temperature=1.0):\n",
    "            a = np.log(a) / temperature\n",
    "            a = np.exp(a) / np.sum(np.exp(a))\n",
    "            r = np.random.random() # range: [0,1)\n",
    "            total = 0.0\n",
    "            for i in range(len(a)):\n",
    "                total += a[i]\n",
    "                if total>r:\n",
    "                    return i\n",
    "            return len(a)-1\n",
    "        \n",
    "        # now sample (argmax, sample, or temperature)\n",
    "        # sample = np.argmax( s_probsv[0] )\n",
    "        sample = np.random.choice( vocab_size, p=np.ravel(s_probsv[0]) )\n",
    "        # sample = temp_sample(np.ravel(s_probsv[0]))\n",
    "\n",
    "        pred = data_loader.chars[sample]\n",
    "        ret = ret + ' ' + pred\n",
    "        char = pred\n",
    "\n",
    "    return ret\n",
    "\n",
    "# ==================================================================\n",
    "\n",
    "sess = tf.Session()\n",
    "sess.run( tf.global_variables_initializer() )\n",
    "summary_writer = tf.summary.FileWriter( \"./tf_logs\", graph=sess.graph )\n",
    "print \"FOUND %d BATCHES\" % data_loader.num_batches\n",
    "\n",
    "for j in xrange(120):\n",
    "\n",
    "    state = sess.run( initial_state )\n",
    "    data_loader.reset_batch_pointer()\n",
    "\n",
    "    for i in xrange( data_loader.num_batches ):\n",
    "\n",
    "        x,y = data_loader.next_batch()\n",
    "\n",
    "        # we have to feed in the individual states of the MultiRNN cell\n",
    "        feed = { in_ph: x, targ_ph: y }\n",
    "        for k, s in enumerate( initial_state ):\n",
    "            feed[s] = state[k]\n",
    "\n",
    "        ops = [optim,loss]\n",
    "        ops.extend( list(final_state) )\n",
    "\n",
    "        # retval will have at least 3 entries:\n",
    "        # 0 is None (triggered by the optim op)\n",
    "        # 1 is the loss\n",
    "        # 2+ are the new final states of the MultiRNN cell\n",
    "        retval = sess.run( ops, feed_dict=feed )\n",
    "\n",
    "        lt = retval[1]\n",
    "        state = retval[2:]\n",
    "\n",
    "        if i%1000==0:\n",
    "            print \"%d %d\\t%.4f\" % ( j, i, lt )\n",
    "            prime = data[np.random.randint(0,len(data))]\n",
    "            while len(prime) < 1:\n",
    "                prime = data[np.random.randint(0,len(data))]\n",
    "            sample(num=100, prime=prime)\n",
    "\n",
    "    \"\"\"k = 0\n",
    "    with open(\"my_poems/test_{}.txt\".format(j), 'w') as f:\n",
    "        while k < 20:\n",
    "            prime = data[np.random.randint(0,len(data))]\n",
    "            while len(prime) < 1:\n",
    "                prime = data[np.random.randint(0,len(data))]\n",
    "            try:\n",
    "                f.write(sample(num=100, prime=prime) + '\\n')\n",
    "                k += 1\n",
    "            except:\n",
    "                f.write(\"UNICODE ERROR \\n\")\"\"\"\n",
    "                \n",
    "i = 0\n",
    "with open(\"final.txt\", 'w') as f:\n",
    "    while i < 20:\n",
    "        prime = data[np.random.randint(0,len(data))]\n",
    "        while len(prime) < 1:\n",
    "            prime = data[np.random.randint(0,len(data))]\n",
    "        try:\n",
    "            f.write(sample(num=100, prime=prime) + '\\n')\n",
    "            i += 1\n",
    "        except:\n",
    "            print(\"UNICODE ERROR\")\n",
    "\n",
    "\n",
    "summary_writer.close()"
   ]
  },
  {
   "cell_type": "code",
   "execution_count": 30,
   "metadata": {
    "collapsed": false
   },
   "outputs": [
    {
     "name": "stdout",
     "output_type": "stream",
     "text": [
      "132\n"
     ]
    }
   ],
   "source": [
    "print(data_loader.num_batches)"
   ]
  },
  {
   "cell_type": "code",
   "execution_count": 37,
   "metadata": {
    "collapsed": false
   },
   "outputs": [
    {
     "name": "stderr",
     "output_type": "stream",
     "text": [
      "2017-12-18 22:34:26,845 [INFO    ] Logging initialized\n"
     ]
    }
   ],
   "source": [
    "import logging\n",
    "\n",
    "logging.basicConfig(format='%(asctime)s [%(levelname)-8s] %(message)s')\n",
    "logger = logging.getLogger('lab_8-GAN-Alma')\n",
    "logger.setLevel(logging.INFO)\n",
    "\n",
    "# create file handler which logs even debug messages\n",
    "fh = logging.FileHandler('lab8-alma.log')\n",
    "fh.setLevel(logging.INFO)\n",
    "formatter = logging.Formatter('%(asctime)s - %(name)s - %(levelname)s - %(message)s')\n",
    "fh.setFormatter(formatter)\n",
    "logger.addHandler(fh)\n",
    "\n",
    "logger.info(\"Logging initialized\")"
   ]
  },
  {
   "cell_type": "code",
   "execution_count": null,
   "metadata": {
    "collapsed": true
   },
   "outputs": [],
   "source": []
  }
 ],
 "metadata": {
  "kernelspec": {
   "display_name": "Python 2",
   "language": "python",
   "name": "python2"
  },
  "language_info": {
   "codemirror_mode": {
    "name": "ipython",
    "version": 2
   },
   "file_extension": ".py",
   "mimetype": "text/x-python",
   "name": "python",
   "nbconvert_exporter": "python",
   "pygments_lexer": "ipython2",
   "version": "2.7.13"
  }
 },
 "nbformat": 4,
 "nbformat_minor": 2
}
